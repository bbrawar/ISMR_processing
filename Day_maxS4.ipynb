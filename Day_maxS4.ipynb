{
 "cells": [
  {
   "cell_type": "code",
   "execution_count": 1,
   "id": "69b6ddbb-478b-4d80-a5ba-73fa6d0f3267",
   "metadata": {},
   "outputs": [
    {
     "name": "stdin",
     "output_type": "stream",
     "text": [
      "Year =  2022\n"
     ]
    }
   ],
   "source": [
    "import pandas as pd\n",
    "import matplotlib.pyplot as plt\n",
    "import seaborn as sns\n",
    "import matplotlib.dates as mdates\n",
    "import numpy as np\n",
    "import tkinter as tk\n",
    "from tkinter import filedialog\n",
    "import datetime\n",
    "\n",
    "# User input for the year\n",
    "year = input('Year = ')\n",
    "\n",
    "# Read the CSV file into a DataFrame\n",
    "df = pd.read_csv(f'{year}/scinti_S4cGPS{year}.csv', index_col=0, low_memory=False)"
   ]
  },
  {
   "cell_type": "code",
   "execution_count": 2,
   "id": "10521751-c923-4fd1-9c62-75e9f0f6f9e4",
   "metadata": {},
   "outputs": [],
   "source": [
    "# Convert date and time columns to datetime format\n",
    "df['DateTime_UTC'] = pd.to_datetime(df['DateTime_UTC'])\n",
    "df['DateTime_IST'] = pd.to_datetime(df['DateTime_IST'])\n",
    "\n",
    "# Set DateTime_UTC as the index\n",
    "#df.set_index('DateTime_UTC', inplace=True)\n",
    "df=df[df.DateTime_UTC.dt.time>=datetime.time(12, 30, 0)]\n",
    "df.set_index('DateTime_UTC', inplace=True)"
   ]
  },
  {
   "cell_type": "code",
   "execution_count": 3,
   "id": "03001b9c-c23c-4657-9aae-3557bcb4502a",
   "metadata": {},
   "outputs": [],
   "source": [
    "df=df[df.S4cor>=0.6]"
   ]
  },
  {
   "cell_type": "code",
   "execution_count": 4,
   "id": "6e12b362-f53c-4dba-acfa-d72484ddbd38",
   "metadata": {},
   "outputs": [],
   "source": [
    "daily_max = df.resample('D').max()\n"
   ]
  },
  {
   "cell_type": "code",
   "execution_count": 5,
   "id": "76e6f384-55ab-4ee7-888b-c76b1c586972",
   "metadata": {},
   "outputs": [],
   "source": [
    "daily_max2=daily_max.dropna()"
   ]
  },
  {
   "cell_type": "code",
   "execution_count": 11,
   "id": "d73045ec-b19d-4026-9279-d743de695738",
   "metadata": {
    "scrolled": true
   },
   "outputs": [
    {
     "data": {
      "text/plain": [
       "DateTime_UTC\n",
       "2022-10-18    1.132385\n",
       "2022-10-19    1.315068\n",
       "2022-10-20    1.137935\n",
       "2022-10-21    1.319291\n",
       "2022-10-23    1.010087\n",
       "2022-10-28    1.185380\n",
       "2022-11-01    1.000000\n",
       "2022-11-06    1.000000\n",
       "2022-11-08    1.000000\n",
       "2022-11-20    1.000000\n",
       "Name: S4cor, dtype: float64"
      ]
     },
     "execution_count": 11,
     "metadata": {},
     "output_type": "execute_result"
    }
   ],
   "source": [
    "daily_max2.S4cor.tail(10)"
   ]
  },
  {
   "cell_type": "code",
   "execution_count": null,
   "id": "b3429640-d082-42e2-a76a-70a14050d07f",
   "metadata": {},
   "outputs": [],
   "source": []
  }
 ],
 "metadata": {
  "kernelspec": {
   "display_name": "Python 3",
   "language": "python",
   "name": "python3"
  },
  "language_info": {
   "codemirror_mode": {
    "name": "ipython",
    "version": 3
   },
   "file_extension": ".py",
   "mimetype": "text/x-python",
   "name": "python",
   "nbconvert_exporter": "python",
   "pygments_lexer": "ipython3",
   "version": "3.8.10"
  }
 },
 "nbformat": 4,
 "nbformat_minor": 5
}
