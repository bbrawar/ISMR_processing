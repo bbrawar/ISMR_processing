{
 "cells": [
  {
   "cell_type": "code",
   "execution_count": 1,
   "id": "09fdb99d-a9f5-466c-9988-5c1016f29d60",
   "metadata": {},
   "outputs": [],
   "source": [
    "import numpy as np\n",
    "import matplotlib.pyplot as plt\n",
    "import pandas as pd\n",
    "import datetime as dt\n",
    "from scipy.stats import gaussian_kde\n",
    "#import mpl_scatter_density\n",
    "import calendar"
   ]
  },
  {
   "cell_type": "code",
   "execution_count": 2,
   "id": "af842c79-636c-4f88-a0ba-ad47956ee6a6",
   "metadata": {},
   "outputs": [
    {
     "name": "stdin",
     "output_type": "stream",
     "text": [
      "Year =  2020\n"
     ]
    }
   ],
   "source": [
    "year=input('Year = ')"
   ]
  },
  {
   "cell_type": "code",
   "execution_count": 3,
   "id": "bf92c970-b7f8-4223-b6fa-a763a9c1e52b",
   "metadata": {},
   "outputs": [],
   "source": [
    "def percentage_above_threshold(series, threshold):\n",
    "    above_threshold = series[series >= threshold]\n",
    "    return (above_threshold.count() / series.count()) * 100"
   ]
  },
  {
   "cell_type": "code",
   "execution_count": 4,
   "id": "430ac815-38d8-4ee4-9f1f-fe6bf992b0d9",
   "metadata": {},
   "outputs": [],
   "source": [
    "df = pd.read_csv(f'{year}/scinti_S4cGPS{year}.csv', index_col=0, low_memory=False)\n",
    "\n",
    "# Convert date and time columns to datetime format\n",
    "df['DateTime_UTC'] = pd.to_datetime(df['DateTime_UTC'])\n",
    "df['DateTime_IST'] = pd.to_datetime(df['DateTime_IST'])\n",
    "\n",
    "# Set DateTime_UTC as the index\n",
    "df.set_index('DateTime_UTC', inplace=True)\n",
    "\n",
    "# Convert Total_S4_Sig1 column to float\n",
    "df['Total_S4_Sig1'] = df['Total_S4_Sig1'].astype(float)\n",
    "df['S4cor'] = df['S4cor'].astype(float)\n",
    "\n",
    "df=df[df.index.time>=dt.time(12, 30, 0)]\n",
    "\n"
   ]
  },
  {
   "cell_type": "code",
   "execution_count": 5,
   "id": "6e1d9e02-b63b-41ab-8a8e-ff22572a0467",
   "metadata": {},
   "outputs": [],
   "source": [
    "grouped_data = df.groupby(pd.Grouper(freq='D'))\n"
   ]
  },
  {
   "cell_type": "code",
   "execution_count": 6,
   "id": "e893e6b6-694f-4a4b-91c9-6205050e1a45",
   "metadata": {},
   "outputs": [],
   "source": [
    "threshold=0.3"
   ]
  },
  {
   "cell_type": "code",
   "execution_count": 7,
   "id": "b57a6183-8452-4244-b6f0-07ae97dd0d17",
   "metadata": {},
   "outputs": [],
   "source": [
    "result = grouped_data['S4cor'].apply(percentage_above_threshold, threshold=threshold)\n"
   ]
  },
  {
   "cell_type": "code",
   "execution_count": 8,
   "id": "3b1aacee-eb37-4d92-89c7-c718d7dfdcca",
   "metadata": {},
   "outputs": [
    {
     "data": {
      "text/plain": [
       "[<matplotlib.lines.Line2D at 0x7f6503fb54f0>]"
      ]
     },
     "execution_count": 8,
     "metadata": {},
     "output_type": "execute_result"
    },
    {
     "data": {
      "image/png": "[encoded data removed]",
      "text/plain": [
       "<Figure size 432x288 with 1 Axes>"
      ]
     },
     "metadata": {
      "needs_background": "light"
     },
     "output_type": "display_data"
    }
   ],
   "source": [
    "plt.plot(result)"
   ]
  },
  {
   "cell_type": "code",
   "execution_count": 9,
   "id": "a0fd16ef-1cef-47c0-afc4-388b904d9aea",
   "metadata": {},
   "outputs": [],
   "source": [
    "result.to_csv(f'{year}/percent_year{year}.csv')"
   ]
  },
  {
   "cell_type": "code",
   "execution_count": null,
   "id": "bf983b79-36a1-4d6f-a4b2-c04c51d84a9c",
   "metadata": {},
   "outputs": [],
   "source": []
  }
 ],
 "metadata": {
  "kernelspec": {
   "display_name": "Python 3",
   "language": "python",
   "name": "python3"
  },
  "language_info": {
   "codemirror_mode": {
    "name": "ipython",
    "version": 3
   },
   "file_extension": ".py",
   "mimetype": "text/x-python",
   "name": "python",
   "nbconvert_exporter": "python",
   "pygments_lexer": "ipython3",
   "version": "3.8.10"
  }
 },
 "nbformat": 4,
 "nbformat_minor": 5
}
