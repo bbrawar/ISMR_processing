{
 "cells": [
  {
   "cell_type": "code",
   "execution_count": 1,
   "id": "24e64534",
   "metadata": {},
   "outputs": [],
   "source": [
    "import numpy as np\n",
    "import matplotlib.pyplot as plt\n",
    "import pandas as pd\n",
    "import datetime as dt\n",
    "from scipy.stats import gaussian_kde\n",
    "#import mpl_scatter_density\n",
    "import calendar\n",
    "import seaborn as sns"
   ]
  },
  {
   "cell_type": "code",
   "execution_count": 2,
   "id": "7a4380f0",
   "metadata": {},
   "outputs": [
    {
     "data": {
      "text/html": [
       "<div>\n",
       "<style scoped>\n",
       "    .dataframe tbody tr th:only-of-type {\n",
       "        vertical-align: middle;\n",
       "    }\n",
       "\n",
       "    .dataframe tbody tr th {\n",
       "        vertical-align: top;\n",
       "    }\n",
       "\n",
       "    .dataframe thead th {\n",
       "        text-align: right;\n",
       "    }\n",
       "</style>\n",
       "<table border=\"1\" class=\"dataframe\">\n",
       "  <thead>\n",
       "    <tr style=\"text-align: right;\">\n",
       "      <th></th>\n",
       "      <th>YEAR</th>\n",
       "      <th>DOY</th>\n",
       "      <th>HR</th>\n",
       "      <th>Kp</th>\n",
       "      <th>F10.7</th>\n",
       "    </tr>\n",
       "  </thead>\n",
       "  <tbody>\n",
       "    <tr>\n",
       "      <th>0</th>\n",
       "      <td>2020.0</td>\n",
       "      <td>1.0</td>\n",
       "      <td>0.0</td>\n",
       "      <td>0.3</td>\n",
       "      <td>69.4</td>\n",
       "    </tr>\n",
       "    <tr>\n",
       "      <th>1</th>\n",
       "      <td>2020.0</td>\n",
       "      <td>1.0</td>\n",
       "      <td>1.0</td>\n",
       "      <td>0.3</td>\n",
       "      <td>69.4</td>\n",
       "    </tr>\n",
       "    <tr>\n",
       "      <th>2</th>\n",
       "      <td>2020.0</td>\n",
       "      <td>1.0</td>\n",
       "      <td>2.0</td>\n",
       "      <td>0.3</td>\n",
       "      <td>69.4</td>\n",
       "    </tr>\n",
       "    <tr>\n",
       "      <th>3</th>\n",
       "      <td>2020.0</td>\n",
       "      <td>1.0</td>\n",
       "      <td>3.0</td>\n",
       "      <td>0.0</td>\n",
       "      <td>69.4</td>\n",
       "    </tr>\n",
       "    <tr>\n",
       "      <th>4</th>\n",
       "      <td>2020.0</td>\n",
       "      <td>1.0</td>\n",
       "      <td>4.0</td>\n",
       "      <td>0.0</td>\n",
       "      <td>69.4</td>\n",
       "    </tr>\n",
       "    <tr>\n",
       "      <th>...</th>\n",
       "      <td>...</td>\n",
       "      <td>...</td>\n",
       "      <td>...</td>\n",
       "      <td>...</td>\n",
       "      <td>...</td>\n",
       "    </tr>\n",
       "    <tr>\n",
       "      <th>26299</th>\n",
       "      <td>2022.0</td>\n",
       "      <td>365.0</td>\n",
       "      <td>19.0</td>\n",
       "      <td>3.3</td>\n",
       "      <td>159.5</td>\n",
       "    </tr>\n",
       "    <tr>\n",
       "      <th>26300</th>\n",
       "      <td>2022.0</td>\n",
       "      <td>365.0</td>\n",
       "      <td>20.0</td>\n",
       "      <td>3.3</td>\n",
       "      <td>159.5</td>\n",
       "    </tr>\n",
       "    <tr>\n",
       "      <th>26301</th>\n",
       "      <td>2022.0</td>\n",
       "      <td>365.0</td>\n",
       "      <td>21.0</td>\n",
       "      <td>4.0</td>\n",
       "      <td>159.5</td>\n",
       "    </tr>\n",
       "    <tr>\n",
       "      <th>26302</th>\n",
       "      <td>2022.0</td>\n",
       "      <td>365.0</td>\n",
       "      <td>22.0</td>\n",
       "      <td>4.0</td>\n",
       "      <td>159.5</td>\n",
       "    </tr>\n",
       "    <tr>\n",
       "      <th>26303</th>\n",
       "      <td>2022.0</td>\n",
       "      <td>365.0</td>\n",
       "      <td>23.0</td>\n",
       "      <td>4.0</td>\n",
       "      <td>159.5</td>\n",
       "    </tr>\n",
       "  </tbody>\n",
       "</table>\n",
       "<p>26304 rows × 5 columns</p>\n",
       "</div>"
      ],
      "text/plain": [
       "         YEAR    DOY    HR   Kp  F10.7\n",
       "0      2020.0    1.0   0.0  0.3   69.4\n",
       "1      2020.0    1.0   1.0  0.3   69.4\n",
       "2      2020.0    1.0   2.0  0.3   69.4\n",
       "3      2020.0    1.0   3.0  0.0   69.4\n",
       "4      2020.0    1.0   4.0  0.0   69.4\n",
       "...       ...    ...   ...  ...    ...\n",
       "26299  2022.0  365.0  19.0  3.3  159.5\n",
       "26300  2022.0  365.0  20.0  3.3  159.5\n",
       "26301  2022.0  365.0  21.0  4.0  159.5\n",
       "26302  2022.0  365.0  22.0  4.0  159.5\n",
       "26303  2022.0  365.0  23.0  4.0  159.5\n",
       "\n",
       "[26304 rows x 5 columns]"
      ]
     },
     "execution_count": 2,
     "metadata": {},
     "output_type": "execute_result"
    }
   ],
   "source": [
    "sf=np.loadtxt('sfu2.txt', skiprows=5, unpack=False)\n",
    "sf=pd.DataFrame(sf)\n",
    "sf.columns=['YEAR','DOY','HR','Kp','F10.7']\n",
    "sf.Kp=sf.Kp/10.0\n",
    "sf"
   ]
  },
  {
   "cell_type": "code",
   "execution_count": 3,
   "id": "4d441035",
   "metadata": {},
   "outputs": [],
   "source": [
    "sf['Date']=pd.to_datetime(sf['YEAR'] * 1000 + sf['DOY'], format='%Y%j')+ pd.to_timedelta(sf['HR'], unit='h')\n",
    "sf['Date']=sf['Date']+dt.timedelta(hours=5.5)"
   ]
  },
  {
   "cell_type": "code",
   "execution_count": 4,
   "id": "7c340b4e",
   "metadata": {},
   "outputs": [],
   "source": [
    "sf.set_index('Date',inplace=True)\n",
    "sf=sf[sf['F10.7']<400]"
   ]
  },
  {
   "cell_type": "code",
   "execution_count": 5,
   "id": "227f6210-bec4-4a43-8a98-58596a225871",
   "metadata": {},
   "outputs": [
    {
     "data": {
      "text/html": [
       "<div>\n",
       "<style scoped>\n",
       "    .dataframe tbody tr th:only-of-type {\n",
       "        vertical-align: middle;\n",
       "    }\n",
       "\n",
       "    .dataframe tbody tr th {\n",
       "        vertical-align: top;\n",
       "    }\n",
       "\n",
       "    .dataframe thead th {\n",
       "        text-align: right;\n",
       "    }\n",
       "</style>\n",
       "<table border=\"1\" class=\"dataframe\">\n",
       "  <thead>\n",
       "    <tr style=\"text-align: right;\">\n",
       "      <th></th>\n",
       "      <th>YEAR</th>\n",
       "      <th>DOY</th>\n",
       "      <th>HR</th>\n",
       "      <th>Kp</th>\n",
       "      <th>F10.7</th>\n",
       "    </tr>\n",
       "    <tr>\n",
       "      <th>Date</th>\n",
       "      <th></th>\n",
       "      <th></th>\n",
       "      <th></th>\n",
       "      <th></th>\n",
       "      <th></th>\n",
       "    </tr>\n",
       "  </thead>\n",
       "  <tbody>\n",
       "    <tr>\n",
       "      <th>2020-01-01 05:30:00</th>\n",
       "      <td>2020.0</td>\n",
       "      <td>1.0</td>\n",
       "      <td>0.0</td>\n",
       "      <td>0.3</td>\n",
       "      <td>69.4</td>\n",
       "    </tr>\n",
       "    <tr>\n",
       "      <th>2020-01-01 06:30:00</th>\n",
       "      <td>2020.0</td>\n",
       "      <td>1.0</td>\n",
       "      <td>1.0</td>\n",
       "      <td>0.3</td>\n",
       "      <td>69.4</td>\n",
       "    </tr>\n",
       "    <tr>\n",
       "      <th>2020-01-01 07:30:00</th>\n",
       "      <td>2020.0</td>\n",
       "      <td>1.0</td>\n",
       "      <td>2.0</td>\n",
       "      <td>0.3</td>\n",
       "      <td>69.4</td>\n",
       "    </tr>\n",
       "    <tr>\n",
       "      <th>2020-01-01 08:30:00</th>\n",
       "      <td>2020.0</td>\n",
       "      <td>1.0</td>\n",
       "      <td>3.0</td>\n",
       "      <td>0.0</td>\n",
       "      <td>69.4</td>\n",
       "    </tr>\n",
       "    <tr>\n",
       "      <th>2020-01-01 09:30:00</th>\n",
       "      <td>2020.0</td>\n",
       "      <td>1.0</td>\n",
       "      <td>4.0</td>\n",
       "      <td>0.0</td>\n",
       "      <td>69.4</td>\n",
       "    </tr>\n",
       "    <tr>\n",
       "      <th>...</th>\n",
       "      <td>...</td>\n",
       "      <td>...</td>\n",
       "      <td>...</td>\n",
       "      <td>...</td>\n",
       "      <td>...</td>\n",
       "    </tr>\n",
       "    <tr>\n",
       "      <th>2023-01-01 00:30:00</th>\n",
       "      <td>2022.0</td>\n",
       "      <td>365.0</td>\n",
       "      <td>19.0</td>\n",
       "      <td>3.3</td>\n",
       "      <td>159.5</td>\n",
       "    </tr>\n",
       "    <tr>\n",
       "      <th>2023-01-01 01:30:00</th>\n",
       "      <td>2022.0</td>\n",
       "      <td>365.0</td>\n",
       "      <td>20.0</td>\n",
       "      <td>3.3</td>\n",
       "      <td>159.5</td>\n",
       "    </tr>\n",
       "    <tr>\n",
       "      <th>2023-01-01 02:30:00</th>\n",
       "      <td>2022.0</td>\n",
       "      <td>365.0</td>\n",
       "      <td>21.0</td>\n",
       "      <td>4.0</td>\n",
       "      <td>159.5</td>\n",
       "    </tr>\n",
       "    <tr>\n",
       "      <th>2023-01-01 03:30:00</th>\n",
       "      <td>2022.0</td>\n",
       "      <td>365.0</td>\n",
       "      <td>22.0</td>\n",
       "      <td>4.0</td>\n",
       "      <td>159.5</td>\n",
       "    </tr>\n",
       "    <tr>\n",
       "      <th>2023-01-01 04:30:00</th>\n",
       "      <td>2022.0</td>\n",
       "      <td>365.0</td>\n",
       "      <td>23.0</td>\n",
       "      <td>4.0</td>\n",
       "      <td>159.5</td>\n",
       "    </tr>\n",
       "  </tbody>\n",
       "</table>\n",
       "<p>26280 rows × 5 columns</p>\n",
       "</div>"
      ],
      "text/plain": [
       "                       YEAR    DOY    HR   Kp  F10.7\n",
       "Date                                                \n",
       "2020-01-01 05:30:00  2020.0    1.0   0.0  0.3   69.4\n",
       "2020-01-01 06:30:00  2020.0    1.0   1.0  0.3   69.4\n",
       "2020-01-01 07:30:00  2020.0    1.0   2.0  0.3   69.4\n",
       "2020-01-01 08:30:00  2020.0    1.0   3.0  0.0   69.4\n",
       "2020-01-01 09:30:00  2020.0    1.0   4.0  0.0   69.4\n",
       "...                     ...    ...   ...  ...    ...\n",
       "2023-01-01 00:30:00  2022.0  365.0  19.0  3.3  159.5\n",
       "2023-01-01 01:30:00  2022.0  365.0  20.0  3.3  159.5\n",
       "2023-01-01 02:30:00  2022.0  365.0  21.0  4.0  159.5\n",
       "2023-01-01 03:30:00  2022.0  365.0  22.0  4.0  159.5\n",
       "2023-01-01 04:30:00  2022.0  365.0  23.0  4.0  159.5\n",
       "\n",
       "[26280 rows x 5 columns]"
      ]
     },
     "execution_count": 5,
     "metadata": {},
     "output_type": "execute_result"
    }
   ],
   "source": [
    "sf"
   ]
  },
  {
   "cell_type": "code",
   "execution_count": 6,
   "id": "044aa845-0d31-42b7-84a4-1467927280c6",
   "metadata": {},
   "outputs": [
    {
     "data": {
      "text/html": [
       "<div>\n",
       "<style scoped>\n",
       "    .dataframe tbody tr th:only-of-type {\n",
       "        vertical-align: middle;\n",
       "    }\n",
       "\n",
       "    .dataframe tbody tr th {\n",
       "        vertical-align: top;\n",
       "    }\n",
       "\n",
       "    .dataframe thead th {\n",
       "        text-align: right;\n",
       "    }\n",
       "</style>\n",
       "<table border=\"1\" class=\"dataframe\">\n",
       "  <thead>\n",
       "    <tr style=\"text-align: right;\">\n",
       "      <th></th>\n",
       "      <th>YEAR</th>\n",
       "      <th>DOY</th>\n",
       "      <th>HR</th>\n",
       "      <th>Kp</th>\n",
       "      <th>F10.7</th>\n",
       "    </tr>\n",
       "    <tr>\n",
       "      <th>Date</th>\n",
       "      <th></th>\n",
       "      <th></th>\n",
       "      <th></th>\n",
       "      <th></th>\n",
       "      <th></th>\n",
       "    </tr>\n",
       "  </thead>\n",
       "  <tbody>\n",
       "    <tr>\n",
       "      <th>2020-01-01</th>\n",
       "      <td>2020.0</td>\n",
       "      <td>1.0</td>\n",
       "      <td>18.0</td>\n",
       "      <td>1.3</td>\n",
       "      <td>69.4</td>\n",
       "    </tr>\n",
       "    <tr>\n",
       "      <th>2020-01-02</th>\n",
       "      <td>2020.0</td>\n",
       "      <td>2.0</td>\n",
       "      <td>23.0</td>\n",
       "      <td>1.0</td>\n",
       "      <td>69.5</td>\n",
       "    </tr>\n",
       "    <tr>\n",
       "      <th>2020-01-03</th>\n",
       "      <td>2020.0</td>\n",
       "      <td>3.0</td>\n",
       "      <td>23.0</td>\n",
       "      <td>2.7</td>\n",
       "      <td>69.5</td>\n",
       "    </tr>\n",
       "    <tr>\n",
       "      <th>2020-01-04</th>\n",
       "      <td>2020.0</td>\n",
       "      <td>4.0</td>\n",
       "      <td>23.0</td>\n",
       "      <td>2.3</td>\n",
       "      <td>69.8</td>\n",
       "    </tr>\n",
       "    <tr>\n",
       "      <th>2020-01-05</th>\n",
       "      <td>2020.0</td>\n",
       "      <td>5.0</td>\n",
       "      <td>23.0</td>\n",
       "      <td>3.3</td>\n",
       "      <td>69.8</td>\n",
       "    </tr>\n",
       "    <tr>\n",
       "      <th>...</th>\n",
       "      <td>...</td>\n",
       "      <td>...</td>\n",
       "      <td>...</td>\n",
       "      <td>...</td>\n",
       "      <td>...</td>\n",
       "    </tr>\n",
       "    <tr>\n",
       "      <th>2022-12-28</th>\n",
       "      <td>2022.0</td>\n",
       "      <td>362.0</td>\n",
       "      <td>23.0</td>\n",
       "      <td>2.3</td>\n",
       "      <td>155.1</td>\n",
       "    </tr>\n",
       "    <tr>\n",
       "      <th>2022-12-29</th>\n",
       "      <td>2022.0</td>\n",
       "      <td>363.0</td>\n",
       "      <td>23.0</td>\n",
       "      <td>3.3</td>\n",
       "      <td>157.4</td>\n",
       "    </tr>\n",
       "    <tr>\n",
       "      <th>2022-12-30</th>\n",
       "      <td>2022.0</td>\n",
       "      <td>364.0</td>\n",
       "      <td>23.0</td>\n",
       "      <td>4.7</td>\n",
       "      <td>172.4</td>\n",
       "    </tr>\n",
       "    <tr>\n",
       "      <th>2022-12-31</th>\n",
       "      <td>2022.0</td>\n",
       "      <td>365.0</td>\n",
       "      <td>23.0</td>\n",
       "      <td>4.3</td>\n",
       "      <td>172.4</td>\n",
       "    </tr>\n",
       "    <tr>\n",
       "      <th>2023-01-01</th>\n",
       "      <td>2022.0</td>\n",
       "      <td>365.0</td>\n",
       "      <td>23.0</td>\n",
       "      <td>4.0</td>\n",
       "      <td>159.5</td>\n",
       "    </tr>\n",
       "  </tbody>\n",
       "</table>\n",
       "<p>1097 rows × 5 columns</p>\n",
       "</div>"
      ],
      "text/plain": [
       "              YEAR    DOY    HR   Kp  F10.7\n",
       "Date                                       \n",
       "2020-01-01  2020.0    1.0  18.0  1.3   69.4\n",
       "2020-01-02  2020.0    2.0  23.0  1.0   69.5\n",
       "2020-01-03  2020.0    3.0  23.0  2.7   69.5\n",
       "2020-01-04  2020.0    4.0  23.0  2.3   69.8\n",
       "2020-01-05  2020.0    5.0  23.0  3.3   69.8\n",
       "...            ...    ...   ...  ...    ...\n",
       "2022-12-28  2022.0  362.0  23.0  2.3  155.1\n",
       "2022-12-29  2022.0  363.0  23.0  3.3  157.4\n",
       "2022-12-30  2022.0  364.0  23.0  4.7  172.4\n",
       "2022-12-31  2022.0  365.0  23.0  4.3  172.4\n",
       "2023-01-01  2022.0  365.0  23.0  4.0  159.5\n",
       "\n",
       "[1097 rows x 5 columns]"
      ]
     },
     "execution_count": 6,
     "metadata": {},
     "output_type": "execute_result"
    }
   ],
   "source": [
    "sf=sf.resample('D').max()\n",
    "sf"
   ]
  },
  {
   "cell_type": "code",
   "execution_count": 7,
   "id": "233f40e9",
   "metadata": {},
   "outputs": [],
   "source": [
    "scint1=pd.read_csv('2020/percent_year2020.csv')\n",
    "scint2=pd.read_csv('2021/percent_year2021.csv')\n",
    "scint3=pd.read_csv('2022/percent_year2022.csv')"
   ]
  },
  {
   "cell_type": "code",
   "execution_count": 8,
   "id": "1846f0db",
   "metadata": {},
   "outputs": [],
   "source": [
    "scint=pd.concat([scint1,scint2,scint3],axis=0)\n",
    "scint.columns=['Date','Count']\n"
   ]
  },
  {
   "cell_type": "code",
   "execution_count": 9,
   "id": "f1dd65b8",
   "metadata": {
    "tags": []
   },
   "outputs": [],
   "source": [
    "scint['Date']=pd.to_datetime(scint['Date']).dt.date"
   ]
  },
  {
   "cell_type": "code",
   "execution_count": 10,
   "id": "2adcfd60",
   "metadata": {
    "tags": []
   },
   "outputs": [],
   "source": [
    "scint.set_index('Date',inplace=True)"
   ]
  },
  {
   "cell_type": "code",
   "execution_count": 11,
   "id": "5f1350cf",
   "metadata": {
    "tags": []
   },
   "outputs": [
    {
     "name": "stdout",
     "output_type": "stream",
     "text": [
      "Corr =0.14465186595208046\n"
     ]
    },
    {
     "name": "stderr",
     "output_type": "stream",
     "text": [
      "<ipython-input-11-592f22203ac9>:1: FutureWarning: Comparison of Timestamp with datetime.date is deprecated in order to match the standard library behavior. In a future version these will be considered non-comparable. Use 'ts == pd.Timestamp(date)' or 'ts.date() == date' instead.\n",
      "  temp=pd.concat([sf,scint],axis=1)\n"
     ]
    }
   ],
   "source": [
    "temp=pd.concat([sf,scint],axis=1)\n",
    "corr = temp['F10.7'].corr(temp['Count'])\n",
    "print( f\"Corr ={corr}\")\n",
    "del temp['YEAR']\n",
    "del temp['HR']\n",
    "temp['Month'] = pd.DatetimeIndex(temp.index).month\n",
    "quite=temp[temp['Kp']<=3]\n",
    "disturbed=temp[temp['Kp']>3]\n",
    "dff=disturbed.groupby('Month')"
   ]
  },
  {
   "cell_type": "code",
   "execution_count": 12,
   "id": "baea838a-7eed-4784-b245-0945525fdf75",
   "metadata": {},
   "outputs": [
    {
     "data": {
      "text/plain": [
       "<pandas.core.groupby.generic.DataFrameGroupBy object at 0x7ff01a3a9bb0>"
      ]
     },
     "execution_count": 12,
     "metadata": {},
     "output_type": "execute_result"
    }
   ],
   "source": [
    "dff"
   ]
  },
  {
   "cell_type": "code",
   "execution_count": 13,
   "id": "742de63d",
   "metadata": {
    "tags": []
   },
   "outputs": [],
   "source": [
    "plt.rcParams['ytick.minor.visible'] =True\n",
    "plt.rcParams['xtick.minor.visible'] = True\n",
    "plt.rcParams['xtick.top'] = True\n",
    "plt.rcParams['ytick.right'] = True\n",
    "plt.rcParams['font.size'] = '16'\n",
    "plt.rcParams['font.family'] = 'serif'\n",
    "\n",
    "plt.rcParams['legend.fontsize'] = '10'\n",
    "plt.rcParams['legend.borderaxespad'] = '1.9'\n",
    "#plt.rcParams['legend.numpoints'] = '1'\n",
    "plt.rcParams['figure.titlesize'] = 'medium'\n",
    "plt.rcParams['figure.titlesize'] = 'medium'\n",
    "plt.rcParams['xtick.major.size'] = '5'\n",
    "plt.rcParams['xtick.minor.size'] = '3'\n",
    "plt.rcParams['xtick.major.width'] = '2'\n",
    "plt.rcParams['xtick.minor.width'] = '1'\n",
    "plt.rcParams['ytick.major.size'] = '5'\n",
    "plt.rcParams['ytick.minor.size'] = '3'\n",
    "plt.rcParams['ytick.major.width'] = '2'\n",
    "plt.rcParams['ytick.minor.width'] = '1'\n",
    "plt.rcParams['xtick.direction'] = 'in'\n",
    "plt.rcParams['ytick.direction'] = 'in'\n",
    "plt.rcParams['axes.labelpad'] = '10.0'\n",
    "plt.rcParams['lines.dashed_pattern']=3.0, 1.4\n",
    "#plt.rcParams['axes.formatter.limits']=-10,10\n",
    "plt.rcParams['lines.dotted_pattern']= 1.0, 0.7\n",
    "\n",
    "plt.rcParams['xtick.labelsize'] = '12'\n",
    "plt.rcParams['ytick.labelsize'] = '12'\n",
    "plt.rcParams['axes.labelsize'] = '16'\n",
    "plt.rcParams['axes.labelsize'] = '16'\n",
    "plt.rcParams['axes.labelweight'] = 'bold'\n",
    "\n",
    "plt.rcParams['xtick.major.pad']='10'\n",
    "plt.rcParams['xtick.minor.pad']='10'\n",
    "plt.rcParams['hatch.color'] = 'black'\n",
    "plt.rc('axes', linewidth=2)"
   ]
  },
  {
   "cell_type": "code",
   "execution_count": 14,
   "id": "8ede84f4-ab9d-43ea-b008-b8ac7d179c7f",
   "metadata": {},
   "outputs": [
    {
     "name": "stderr",
     "output_type": "stream",
     "text": [
      "<ipython-input-14-7f12630ec5b6>:27: UserWarning: This figure includes Axes that are not compatible with tight_layout, so results might be incorrect.\n",
      "  plt.tight_layout()\n"
     ]
    },
    {
     "data": {
      "image/png": "[encoded data removed]",
      "text/plain": [
       "<Figure size 864x864 with 12 Axes>"
      ]
     },
     "metadata": {
      "needs_background": "light"
     },
     "output_type": "display_data"
    }
   ],
   "source": [
    "# Define the width and height spacing between subplots\n",
    "wspace = 0.09  # Adjust this value to decrease or increase horizontal spacing\n",
    "hspace = 0.09  # Adjust this value to decrease or increase vertical spacing\n",
    "\n",
    "\n",
    "fig, ax = plt.subplots(4, 3, sharey=True, sharex=True, figsize=(12, 12),gridspec_kw={'wspace': wspace, 'hspace': hspace})\n",
    "ax = ax.flatten()\n",
    "\n",
    "i = 1  # Start at 1 because the first month is January\n",
    "#dff = temp.groupby('Month')\n",
    "font_size = 14\n",
    "font_family = 'serif'  \n",
    "fig.text(0.5, 0.06, 'F10.7', ha='center', fontsize=font_size, fontfamily=font_family)\n",
    "fig.text(0.06, 0.5, '%epochs Occurences', va='center', rotation='vertical',fontsize=font_size, fontfamily=font_family)\n",
    "for j in range(4):\n",
    "    for k in range(3):\n",
    "        if i <= len(dff):  # Make sure you don't access more subplots than available groups\n",
    "            df = dff.get_group(i)\n",
    "            sns.regplot(x='F10.7', y='Count', data=df, ax=ax[j * 3 + k],label=calendar.month_name[i])\n",
    "            ax[j * 3 + k].set_ylim(0,2)\n",
    "            ax[j * 3 + k].set_xlim(50,200)\n",
    "            ax[j * 3 + k].set_xlabel('')\n",
    "            ax[j * 3 + k].set_ylabel('')\n",
    "            ax[j * 3 + k].legend(loc=2)\n",
    "            i += 1\n",
    "\n",
    "plt.tight_layout()\n",
    "#plt.savefig('regplot_sf_percent_scint.png',facecolor='white', dpi=500, bbox_inches='tight')\n",
    "plt.show()\n"
   ]
  },
  {
   "cell_type": "code",
   "execution_count": 15,
   "id": "4cee36e3-4845-4ad1-9b4c-0948afc146a2",
   "metadata": {},
   "outputs": [
    {
     "name": "stderr",
     "output_type": "stream",
     "text": [
      "/home/bhuvi/.local/lib/python3.8/site-packages/numpy/ma/core.py:2822: FutureWarning: Comparison of Timestamp with datetime.date is deprecated in order to match the standard library behavior. In a future version these will be considered non-comparable. Use 'ts == pd.Timestamp(date)' or 'ts.date() == date' instead.\n",
      "  _baseclass = getattr(data, '_baseclass', type(_data))\n",
      "<ipython-input-15-9ccbe125ed87>:27: UserWarning: This figure includes Axes that are not compatible with tight_layout, so results might be incorrect.\n",
      "  plt.tight_layout()\n"
     ]
    },
    {
     "data": {
      "image/png": "[encoded data removed]",
      "text/plain": [
       "<Figure size 864x864 with 12 Axes>"
      ]
     },
     "metadata": {
      "needs_background": "light"
     },
     "output_type": "display_data"
    }
   ],
   "source": [
    "# Define the width and height spacing between subplots\n",
    "wspace = 0.09  # Adjust this value to decrease or increase horizontal spacing\n",
    "hspace = 0.09  # Adjust this value to decrease or increase vertical spacing\n",
    "\n",
    "\n",
    "fig, ax = plt.subplots(4, 3, sharey=True, sharex=True, figsize=(12, 12),gridspec_kw={'wspace': wspace, 'hspace': hspace})\n",
    "ax = ax.flatten()\n",
    "\n",
    "i = 1  # Start at 1 because the first month is January\n",
    "#dff = temp.groupby('Month')\n",
    "font_size = 14\n",
    "font_family = 'serif'  \n",
    "fig.text(0.5, 0.06, 'F10.7', ha='center', fontsize=font_size, fontfamily=font_family)\n",
    "fig.text(0.06, 0.5, '%epochs Occurences', va='center', rotation='vertical',fontsize=font_size, fontfamily=font_family)\n",
    "for j in range(4):\n",
    "    for k in range(3):\n",
    "        if i <= len(dff):  # Make sure you don't access more subplots than available groups\n",
    "            df = dff.get_group(i)\n",
    "            ax[j * 3 + k].scatter(df['F10.7'],df['Count'],label=calendar.month_name[i])\n",
    "            ax[j * 3 + k].set_ylim(0,2)\n",
    "            ax[j * 3 + k].set_xlim(50,200)\n",
    "            ax[j * 3 + k].set_xlabel('')\n",
    "            ax[j * 3 + k].set_ylabel('')\n",
    "            ax[j * 3 + k].legend(loc=2)\n",
    "            i += 1\n",
    "\n",
    "plt.tight_layout()\n",
    "#plt.savefig('scatterplot_sf_percent_scint.png',facecolor='white', dpi=500, bbox_inches='tight')\n",
    "plt.show()"
   ]
  },
  {
   "cell_type": "code",
   "execution_count": 16,
   "id": "a8e1cb1e-7516-4e55-947c-3a18c752a4fe",
   "metadata": {},
   "outputs": [
    {
     "data": {
      "image/png": "[encoded data removed]",
      "text/plain": [
       "<Figure size 432x288 with 1 Axes>"
      ]
     },
     "metadata": {
      "needs_background": "light"
     },
     "output_type": "display_data"
    }
   ],
   "source": [
    "%matplotlib inline\n",
    "fig.text(0.5, 0.06, 'F10.7', ha='center', fontsize=font_size, fontfamily=font_family)\n",
    "fig.text(0.06, 0.5, '%epochs Occurences', va='center', rotation='vertical',fontsize=font_size, fontfamily=font_family)\n",
    "temp1=temp[temp.DOY.between(36,126,inclusive='both')|temp.DOY.between(221,311,inclusive='both')]\n",
    "sns.regplot(x='F10.7', y='Count', data=temp1)\n",
    "plt.show()\n",
    "#plt.scatter(temp1['F10.7'],temp1['Count'])\n",
    "#plt.show()"
   ]
  },
  {
   "cell_type": "code",
   "execution_count": null,
   "id": "abf11c38-802b-4519-b3ee-db4ff54dc948",
   "metadata": {},
   "outputs": [],
   "source": []
  }
 ],
 "metadata": {
  "kernelspec": {
   "display_name": "Python 3",
   "language": "python",
   "name": "python3"
  },
  "language_info": {
   "codemirror_mode": {
    "name": "ipython",
    "version": 3
   },
   "file_extension": ".py",
   "mimetype": "text/x-python",
   "name": "python",
   "nbconvert_exporter": "python",
   "pygments_lexer": "ipython3",
   "version": "3.8.10"
  }
 },
 "nbformat": 4,
 "nbformat_minor": 5
}
